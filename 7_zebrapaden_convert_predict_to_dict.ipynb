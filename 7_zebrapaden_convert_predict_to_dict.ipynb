{
 "cells": [
  {
   "cell_type": "code",
   "execution_count": 1,
   "id": "3f1a7636",
   "metadata": {},
   "outputs": [],
   "source": [
    "import matplotlib.pyplot as plt\n",
    "import cv2\n",
    "import re\n",
    "import os\n",
    "import shutil"
   ]
  },
  {
   "cell_type": "code",
   "execution_count": 2,
   "id": "1db77e1b",
   "metadata": {},
   "outputs": [],
   "source": [
    "import numpy as np\n",
    "import pickle as pkl\n",
    "import pandas as pd\n",
    "from sklearn import metrics\n",
    "import tensorflow as tf\n",
    "from PIL import Image"
   ]
  },
  {
   "cell_type": "code",
   "execution_count": null,
   "id": "c8810d61",
   "metadata": {},
   "outputs": [],
   "source": [
    "# This is required for me to have autocomplete\n",
    "%config Completer.use_jedi = False\n",
    "%matplotlib inline\n",
    "\n",
    "!jupyter nbextension enable --py widgetsnbextension"
   ]
  },
  {
   "cell_type": "code",
   "execution_count": 3,
   "id": "ad270fe3",
   "metadata": {},
   "outputs": [],
   "source": [
    "# set data path for images\n",
    "image_path = \"data/testset/images/\"\n",
    "\n",
    "# set data path for annotations\n",
    "annotation_path = \"data/testset/annotations/\"\n",
    "\n",
    "# set path for predictions\n",
    "predict_path = 'data/testset/predictions/'\n",
    "\n",
    "# array path\n",
    "array_path = \"data/testset/final_arrays/\"\n",
    "\n",
    "# evaluation path\n",
    "eval_path = \"data/testset/evaluation/\"\n",
    "\n",
    "# dataset sizes (for looping)\n",
    "sizes = [\"small\",\"medium\",\"large\",\"small_transform\",\"medium_transform\",\"large_transform\"]\n",
    "\n",
    "# models\n",
    "models = [\"VGG32\", \n",
    "          \"VGG8\", \n",
    "          \"Vanilla8\", \n",
    "          \"Vanilla32\",\n",
    "          \"Restnet8\",\n",
    "          \"restnet32\",\n",
    "         \"VanillaUnet\",\n",
    "         \"Resnet50Unet\"]"
   ]
  },
  {
   "cell_type": "markdown",
   "id": "7bed4186",
   "metadata": {},
   "source": [
    "## Convert annotations to dict of 2D arrays"
   ]
  },
  {
   "cell_type": "code",
   "execution_count": 6,
   "id": "6baee785",
   "metadata": {},
   "outputs": [],
   "source": [
    "# convert annotations to 2D arrays\n",
    "array_dict = {}\n",
    "annotations = os.listdir(annotation_path)"
   ]
  },
  {
   "cell_type": "code",
   "execution_count": 7,
   "id": "40d265c7",
   "metadata": {},
   "outputs": [],
   "source": [
    "for ann in annotations:\n",
    "    image = cv2.imread(annotation_path+ann)\n",
    "    \n",
    "    # sum to a 2D array\n",
    "    segment_array = np.sum(image, axis=2)\n",
    "    \n",
    "    # set foreground to 100\n",
    "    segment_array = np.where(segment_array == 298, 1, segment_array)\n",
    "    \n",
    "    # add to dict\n",
    "    array_dict[ann] = segment_array"
   ]
  },
  {
   "cell_type": "code",
   "execution_count": 8,
   "id": "50534773",
   "metadata": {},
   "outputs": [],
   "source": [
    "# save dict\n",
    "with open(array_path+'annotations.pickle', 'wb') as handle:\n",
    "    pkl.dump(array_dict, handle, protocol=pkl.HIGHEST_PROTOCOL)"
   ]
  },
  {
   "cell_type": "markdown",
   "id": "b0dfc78e",
   "metadata": {},
   "source": [
    "## Convert predictions to dict of 2D arrays"
   ]
  },
  {
   "cell_type": "code",
   "execution_count": 5,
   "id": "0a5b1dfa",
   "metadata": {},
   "outputs": [],
   "source": [
    "for model in models:\n",
    "    for size in sizes:\n",
    "        model_dir = predict_path+model+\"/\"+size+\"/\"\n",
    "        \n",
    "        images = os.listdir(model_dir)\n",
    "        array_dict = {}\n",
    "        \n",
    "        for im in images:\n",
    "            image = cv2.imread(model_dir+im)\n",
    "    \n",
    "            # sum to a 2D array\n",
    "            im_array = np.sum(image, axis=2)\n",
    "\n",
    "            # set foreground to 1, background to 0\n",
    "            im_array = np.where(im_array == 587, 1, im_array)\n",
    "            im_array = np.where(im_array == 432, 0, im_array)\n",
    "            \n",
    "            # add to dict\n",
    "            array_dict[im] = im_array\n",
    "        \n",
    "        # save dict\n",
    "        with open(array_path+model+\"_\"+size+'.pickle', 'wb') as handle:\n",
    "            pkl.dump(array_dict, handle, protocol=pkl.HIGHEST_PROTOCOL)"
   ]
  }
 ],
 "metadata": {
  "kernelspec": {
   "display_name": "Python 3",
   "language": "python",
   "name": "python3"
  },
  "language_info": {
   "codemirror_mode": {
    "name": "ipython",
    "version": 3
   },
   "file_extension": ".py",
   "mimetype": "text/x-python",
   "name": "python",
   "nbconvert_exporter": "python",
   "pygments_lexer": "ipython3",
   "version": "3.7.9"
  }
 },
 "nbformat": 4,
 "nbformat_minor": 5
}
