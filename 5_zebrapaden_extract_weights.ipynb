{
 "cells": [
  {
   "cell_type": "code",
   "execution_count": 20,
   "id": "2e2d7f9f",
   "metadata": {},
   "outputs": [],
   "source": [
    "import matplotlib.pyplot as plt\n",
    "from shutil import copyfile\n",
    "import cv2\n",
    "import os\n",
    "import re\n",
    "import tensorflow as tf\n",
    "from zipfile import ZipFile\n",
    "import os\n",
    "import shutil\n",
    "from os.path import basename"
   ]
  },
  {
   "cell_type": "code",
   "execution_count": 21,
   "id": "ee04202b",
   "metadata": {},
   "outputs": [
    {
     "name": "stderr",
     "output_type": "stream",
     "text": [
      "Enabling notebook extension jupyter-js-widgets/extension...\n",
      "      - Validating: ok\n"
     ]
    }
   ],
   "source": [
    "# This is required for me to have autocomplete\n",
    "%config Completer.use_jedi = False\n",
    "%matplotlib inline\n",
    "\n",
    "!jupyter nbextension enable --py widgetsnbextension"
   ]
  },
  {
   "cell_type": "code",
   "execution_count": 24,
   "id": "6c7d64b9",
   "metadata": {},
   "outputs": [],
   "source": [
    "# paths\n",
    "\n",
    "# set path to trainset\n",
    "data_path = \"data/trainset/\"\n",
    "\n",
    "# set path for checkpoints\n",
    "checkpoint_path = \"data/train_checkpoints/\"\n",
    "\n",
    "# set path for final checkpoints\n",
    "trainset_final_path = \"data/train_final_checkpoints/\"\n",
    "\n",
    "# dataset sizes (for looping)\n",
    "sizes = [\"small\",\"medium\",\"large\",\"small_transform\",\"medium_transform\",\"large_transform\"]\n",
    "\n",
    "models = [\"VGG32\", \n",
    "          \"VGG8\", \n",
    "          \"Vanilla8\", \n",
    "          \"Vanilla32\",\n",
    "          \"Restnet8\",\n",
    "          \"restnet32\",\n",
    "         \"VanillaUnet\",\n",
    "         \"Resnet50Unet\"]"
   ]
  },
  {
   "cell_type": "code",
   "execution_count": 23,
   "id": "57d27540",
   "metadata": {},
   "outputs": [
    {
     "ename": "FileExistsError",
     "evalue": "[WinError 183] Cannot create a file when that file already exists: 'data/train_final_checkpoints/'",
     "output_type": "error",
     "traceback": [
      "\u001b[1;31m---------------------------------------------------------------------------\u001b[0m",
      "\u001b[1;31mFileExistsError\u001b[0m                           Traceback (most recent call last)",
      "\u001b[1;32m<ipython-input-23-f9075b10ead9>\u001b[0m in \u001b[0;36m<module>\u001b[1;34m\u001b[0m\n\u001b[0;32m      1\u001b[0m \u001b[1;31m# make dirs\u001b[0m\u001b[1;33m\u001b[0m\u001b[1;33m\u001b[0m\u001b[1;33m\u001b[0m\u001b[0m\n\u001b[1;32m----> 2\u001b[1;33m \u001b[0mos\u001b[0m\u001b[1;33m.\u001b[0m\u001b[0mmakedirs\u001b[0m\u001b[1;33m(\u001b[0m\u001b[0mtrainset_final_path\u001b[0m\u001b[1;33m)\u001b[0m\u001b[1;33m\u001b[0m\u001b[1;33m\u001b[0m\u001b[0m\n\u001b[0m",
      "\u001b[1;32m~\\.conda\\envs\\raster\\lib\\os.py\u001b[0m in \u001b[0;36mmakedirs\u001b[1;34m(name, mode, exist_ok)\u001b[0m\n\u001b[0;32m    221\u001b[0m             \u001b[1;32mreturn\u001b[0m\u001b[1;33m\u001b[0m\u001b[1;33m\u001b[0m\u001b[0m\n\u001b[0;32m    222\u001b[0m     \u001b[1;32mtry\u001b[0m\u001b[1;33m:\u001b[0m\u001b[1;33m\u001b[0m\u001b[1;33m\u001b[0m\u001b[0m\n\u001b[1;32m--> 223\u001b[1;33m         \u001b[0mmkdir\u001b[0m\u001b[1;33m(\u001b[0m\u001b[0mname\u001b[0m\u001b[1;33m,\u001b[0m \u001b[0mmode\u001b[0m\u001b[1;33m)\u001b[0m\u001b[1;33m\u001b[0m\u001b[1;33m\u001b[0m\u001b[0m\n\u001b[0m\u001b[0;32m    224\u001b[0m     \u001b[1;32mexcept\u001b[0m \u001b[0mOSError\u001b[0m\u001b[1;33m:\u001b[0m\u001b[1;33m\u001b[0m\u001b[1;33m\u001b[0m\u001b[0m\n\u001b[0;32m    225\u001b[0m         \u001b[1;31m# Cannot rely on checking for EEXIST, since the operating system\u001b[0m\u001b[1;33m\u001b[0m\u001b[1;33m\u001b[0m\u001b[1;33m\u001b[0m\u001b[0m\n",
      "\u001b[1;31mFileExistsError\u001b[0m: [WinError 183] Cannot create a file when that file already exists: 'data/train_final_checkpoints/'"
     ]
    }
   ],
   "source": [
    "# make dirs\n",
    "os.makedirs(trainset_final_path)"
   ]
  },
  {
   "cell_type": "code",
   "execution_count": 25,
   "id": "7f778662",
   "metadata": {},
   "outputs": [
    {
     "name": "stdout",
     "output_type": "stream",
     "text": [
      "['medium/VanillaUnet_medium_weights.00005.data-00000-of-00001', 'medium/VanillaUnet_medium_weights.00005.index', 'small/VanillaUnet_small_weights.00005.data-00000-of-00001', 'small/VanillaUnet_small_weights.00005.index', 'large/VanillaUnet_large_weights.00005.data-00000-of-00001', 'large/VanillaUnet_large_weights.00005.index', 'small_transform/VanillaUnet_small_transform_weights.00005.data-00000-of-00001', 'small_transform/VanillaUnet_small_transform_weights.00005.index', 'medium_transform/VanillaUnet_medium_transform_weights.00005.data-00000-of-00001', 'medium_transform/VanillaUnet_medium_transform_weights.00005.index', 'large_transform/VanillaUnet_large_transform_weights.00005.data-00000-of-00001', 'large_transform/VanillaUnet_large_transform_weights.00005.index', 'medium/VanillaUnet_medium_weights_config.json', 'small/VanillaUnet_small_weights_config.json', 'large/VanillaUnet_large_weights_config.json', 'small_transform/VanillaUnet_small_transform_weights_config.json', 'medium_transform/VanillaUnet_medium_transform_weights_config.json', 'large_transform/VanillaUnet_large_transform_weights_config.json']\n",
      "['medium/Resnet50Unet_medium_weights.00005.data-00000-of-00001', 'medium/Resnet50Unet_medium_weights.00005.index', 'small/Resnet50Unet_small_weights.00005.data-00000-of-00001', 'small/Resnet50Unet_small_weights.00005.index', 'large/Resnet50Unet_large_weights.00005.data-00000-of-00001', 'large/Resnet50Unet_large_weights.00005.index', 'small_transform/Resnet50Unet_small_transform_weights.00005.data-00000-of-00001', 'small_transform/Resnet50Unet_small_transform_weights.00005.index', 'medium_transform/Resnet50Unet_medium_transform_weights.00005.data-00000-of-00001', 'medium_transform/Resnet50Unet_medium_transform_weights.00005.index', 'large_transform/Resnet50Unet_large_transform_weights.00005.data-00000-of-00001', 'large_transform/Resnet50Unet_large_transform_weights.00005.index', 'medium/Resnet50Unet_medium_weights_config.json', 'small/Resnet50Unet_small_weights_config.json', 'large/Resnet50Unet_large_weights_config.json', 'small_transform/Resnet50Unet_small_transform_weights_config.json', 'medium_transform/Resnet50Unet_medium_transform_weights_config.json', 'large_transform/Resnet50Unet_large_transform_weights_config.json']\n"
     ]
    }
   ],
   "source": [
    "for model_name in models:\n",
    "    zipfile_path = checkpoint_path+model_name+\".zip\"\n",
    "\n",
    "    with ZipFile(zipfile_path, 'r') as zipObj:\n",
    "        listOfFileNames = zipObj.namelist()\n",
    "        list1 = [f for f in listOfFileNames if \"00005.\" in f]\n",
    "        list2 = [f for f in listOfFileNames if \".json\" in f]\n",
    "        finallist = list1+list2\n",
    "        print(finallist)\n",
    "        \n",
    "        # Restnet 8 and 32 is zipped differently\n",
    "        for f in finallist:\n",
    "            if model_name in [\"Restnet8\",\"Restnet32\"]:\n",
    "                zipObj.extract(f ,trainset_final_path)\n",
    "            else:\n",
    "                zipObj.extract(f ,trainset_final_path+model_name)"
   ]
  },
  {
   "cell_type": "code",
   "execution_count": null,
   "id": "6757f122",
   "metadata": {},
   "outputs": [],
   "source": []
  }
 ],
 "metadata": {
  "kernelspec": {
   "display_name": "Python 3",
   "language": "python",
   "name": "python3"
  },
  "language_info": {
   "codemirror_mode": {
    "name": "ipython",
    "version": 3
   },
   "file_extension": ".py",
   "mimetype": "text/x-python",
   "name": "python",
   "nbconvert_exporter": "python",
   "pygments_lexer": "ipython3",
   "version": "3.7.9"
  }
 },
 "nbformat": 4,
 "nbformat_minor": 5
}
