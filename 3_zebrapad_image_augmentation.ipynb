{
 "cells": [
  {
   "cell_type": "code",
   "execution_count": 1,
   "id": "d7268416",
   "metadata": {},
   "outputs": [],
   "source": [
    "# packages\n",
    "from zipfile import ZipFile\n",
    "import shutil\n",
    "import os\n",
    "import re\n",
    "import random\n",
    "from matplotlib import pyplot as plt\n",
    "import numpy as np"
   ]
  },
  {
   "cell_type": "code",
   "execution_count": 2,
   "id": "70f6747d",
   "metadata": {},
   "outputs": [],
   "source": [
    "# image augmentation\n",
    "import albumentations as A\n",
    "import cv2"
   ]
  },
  {
   "cell_type": "code",
   "execution_count": 3,
   "id": "1ce358e0",
   "metadata": {},
   "outputs": [],
   "source": [
    "# set seed\n",
    "random.seed(42) "
   ]
  },
  {
   "cell_type": "code",
   "execution_count": 4,
   "id": "9612a6a7",
   "metadata": {},
   "outputs": [],
   "source": [
    "def visualize(image):\n",
    "    # Divide all values by 65535 so we can display the image using matplotlib\n",
    "    plt.figure(figsize=(10, 10))\n",
    "    plt.axis('off')\n",
    "    plt.imshow(image)\n",
    "    \n",
    "# prepare transformation pipeline\n",
    "epke = A.Compose([\n",
    "\n",
    "    A.OneOf([\n",
    "        A.Flip(p=0.2),\n",
    "        A.VerticalFlip(p=0.2),\n",
    "        A.HorizontalFlip(p=0.2),\n",
    "        A.RandomRotate90(p=0.2),\n",
    "        A.Transpose(p=0.2),\n",
    "    ], p=1),\n",
    "    \n",
    "])"
   ]
  },
  {
   "cell_type": "code",
   "execution_count": 5,
   "id": "66ca708a",
   "metadata": {},
   "outputs": [],
   "source": [
    "# Set dataset sizes\n",
    "sizes = [\"small\",\"medium\",\"large\"]"
   ]
  },
  {
   "cell_type": "code",
   "execution_count": 6,
   "id": "128aa64d",
   "metadata": {},
   "outputs": [],
   "source": [
    "for s in sizes:\n",
    "    s = str(s)\n",
    "    # Set paths\n",
    "    png_in = \"data/trainset/\"+s+\"/images/\"\n",
    "    png_out = \"data/trainset/\"+s+\"_transform/images/\"\n",
    "    \n",
    "    ann_in = \"data/trainset/\"+s+\"/annotations/\"\n",
    "    ann_out = \"data/trainset/\"+s+\"_transform/annotations/\"\n",
    "    \n",
    "    # prepare png_id list\n",
    "    png_id =  os.listdir(png_in)\n",
    "\n",
    "    for pid in png_id:\n",
    "\n",
    "        # create paths\n",
    "        impath_in = png_in+pid\n",
    "        impath_out = png_out+pid\n",
    "        tf_impath_out = png_out+\"tf_\"+pid\n",
    "\n",
    "        annpath_in = ann_in+pid\n",
    "        annpath_out = ann_out+pid\n",
    "        tf_annpath_out = ann_out+\"tf_\"+pid\n",
    "\n",
    "        # read image\n",
    "        image = cv2.imread(impath_in)\n",
    "        #read mask\n",
    "        mask = cv2.imread(annpath_in)\n",
    "\n",
    "        transformed = epke(image = image, mask = mask)\n",
    "\n",
    "\n",
    "        # write image\n",
    "        cv2.imwrite(tf_impath_out, transformed[\"image\"])\n",
    "        # write mask\n",
    "        cv2.imwrite(tf_annpath_out, transformed[\"mask\"])\n",
    "        \n",
    "        # copy non-transformed files\n",
    "        shutil.copy(impath_in, impath_out)\n",
    "        shutil.copy(annpath_in, annpath_out)"
   ]
  }
 ],
 "metadata": {
  "kernelspec": {
   "display_name": "Python 3",
   "language": "python",
   "name": "python3"
  },
  "language_info": {
   "codemirror_mode": {
    "name": "ipython",
    "version": 3
   },
   "file_extension": ".py",
   "mimetype": "text/x-python",
   "name": "python",
   "nbconvert_exporter": "python",
   "pygments_lexer": "ipython3",
   "version": "3.7.9"
  }
 },
 "nbformat": 4,
 "nbformat_minor": 5
}
